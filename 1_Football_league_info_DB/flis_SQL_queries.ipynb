{
 "cells": [
  {
   "attachments": {},
   "cell_type": "markdown",
   "metadata": {},
   "source": [
    "## Football League Information System (FLIS) \n",
    "<p>Football League Information Syatem Database (flisDB) is a relational database schema that manages the information of a\n",
    "football league for a given season. This FLIS consists of several teams, the teams' players, the\n",
    "managers who manage the teams, the match information, scores, and the match referees.</p>\n",
    "\n",
    "<p>The bellow lines of code connects us to the <code>Football_league_info_DB</code> database which contains <code>managers</code>,<code>match_referees</code>,\n",
    "<code>matches</code>,<code>players</code>,<code>referees</code> and <code>teams</code> datasheets.</p>\n"
   ]
  },
  {
   "cell_type": "code",
   "execution_count": 1,
   "metadata": {},
   "outputs": [],
   "source": [
    "import sqlalchemy as sq\n",
    "sq.create_engine('sqlite:///Football_league_info_DB.db')\n",
    "%load_ext sql\n",
    "%sql sqlite:///Football_league_info_DB.db"
   ]
  },
  {
   "attachments": {},
   "cell_type": "markdown",
   "metadata": {},
   "source": [
    "## 1. Find the names and date-of-births of those managers who have joined in years 2019 and 2020"
   ]
  },
  {
   "cell_type": "code",
   "execution_count": 3,
   "metadata": {},
   "outputs": [
    {
     "name": "stdout",
     "output_type": "stream",
     "text": [
      " * sqlite:///Football_league_info_DB.db\n",
      "Done.\n"
     ]
    },
    {
     "data": {
      "text/html": [
       "<table>\n",
       "    <tr>\n",
       "        <th>mgr_name</th>\n",
       "        <th>dob</th>\n",
       "    </tr>\n",
       "    <tr>\n",
       "        <td>Jacob</td>\n",
       "        <td>1990-08-23</td>\n",
       "    </tr>\n",
       "    <tr>\n",
       "        <td>Brandon</td>\n",
       "        <td>1995-02-15</td>\n",
       "    </tr>\n",
       "    <tr>\n",
       "        <td>Adom</td>\n",
       "        <td>1991-02-17</td>\n",
       "    </tr>\n",
       "</table>"
      ],
      "text/plain": [
       "[('Jacob', '1990-08-23'), ('Brandon', '1995-02-15'), ('Adom', '1991-02-17')]"
      ]
     },
     "execution_count": 3,
     "metadata": {},
     "output_type": "execute_result"
    }
   ],
   "source": [
    "%%sql\n",
    "SELECT mgr_name, dob\n",
    "FROM managers\n",
    "WHERE since BETWEEN '2019-01-01' AND '2020-12-31'"
   ]
  },
  {
   "attachments": {},
   "cell_type": "markdown",
   "metadata": {},
   "source": [
    "## 2. Find the names of all those teams where the last name of the team starts with the letter S."
   ]
  },
  {
   "cell_type": "code",
   "execution_count": 4,
   "metadata": {},
   "outputs": [
    {
     "name": "stdout",
     "output_type": "stream",
     "text": [
      " * sqlite:///Football_league_info_DB.db\n",
      "Done.\n"
     ]
    },
    {
     "data": {
      "text/html": [
       "<table>\n",
       "    <tr>\n",
       "        <th>team_id</th>\n",
       "        <th>teams_name</th>\n",
       "        <th>city</th>\n",
       "        <th>playground</th>\n",
       "        <th>jersey_home_color</th>\n",
       "        <th>jersey_away_color</th>\n",
       "    </tr>\n",
       "    <tr>\n",
       "        <td>T0005</td>\n",
       "        <td>All Stars</td>\n",
       "        <td>Pune</td>\n",
       "        <td>M S Maidan</td>\n",
       "        <td>Yellow</td>\n",
       "        <td>Pink</td>\n",
       "    </tr>\n",
       "</table>"
      ],
      "text/plain": [
       "[('T0005', 'All Stars', 'Pune', 'M S Maidan', 'Yellow', 'Pink')]"
      ]
     },
     "execution_count": 4,
     "metadata": {},
     "output_type": "execute_result"
    }
   ],
   "source": [
    "%%sql\n",
    "SELECT *\n",
    "FROM teams\n",
    "WHERE teams_name LIKE '_% S%'"
   ]
  },
  {
   "attachments": {},
   "cell_type": "markdown",
   "metadata": {},
   "source": [
    "## 3. Find the names of players that start with ‘S’ but does not end with ‘n’."
   ]
  },
  {
   "cell_type": "code",
   "execution_count": 7,
   "metadata": {},
   "outputs": [
    {
     "name": "stdout",
     "output_type": "stream",
     "text": [
      " * sqlite:///Football_league_info_DB.db\n",
      "Done.\n"
     ]
    },
    {
     "data": {
      "text/html": [
       "<table>\n",
       "    <tr>\n",
       "        <th>player_name</th>\n",
       "    </tr>\n",
       "    <tr>\n",
       "        <td>Shivansh</td>\n",
       "    </tr>\n",
       "    <tr>\n",
       "        <td>Shlok</td>\n",
       "    </tr>\n",
       "    <tr>\n",
       "        <td>Souvik</td>\n",
       "    </tr>\n",
       "</table>"
      ],
      "text/plain": [
       "[('Shivansh',), ('Shlok',), ('Souvik',)]"
      ]
     },
     "execution_count": 7,
     "metadata": {},
     "output_type": "execute_result"
    }
   ],
   "source": [
    "%%sql\n",
    "SELECT player_name\n",
    "FROM players\n",
    "WHERE player_name LIKE 'S%'\n",
    "EXCEPT\n",
    "SELECT player_name\n",
    "FROM players\n",
    "WHERE player_name LIKE '%n'"
   ]
  },
  {
   "attachments": {},
   "cell_type": "markdown",
   "metadata": {},
   "source": [
    "## 4. Find out the total number of players who are playing from the team id ‘T0001’."
   ]
  },
  {
   "cell_type": "code",
   "execution_count": 8,
   "metadata": {},
   "outputs": [
    {
     "name": "stdout",
     "output_type": "stream",
     "text": [
      " * sqlite:///Football_league_info_DB.db\n",
      "Done.\n"
     ]
    },
    {
     "data": {
      "text/html": [
       "<table>\n",
       "    <tr>\n",
       "        <th>COUNT(player_id)</th>\n",
       "    </tr>\n",
       "    <tr>\n",
       "        <td>11</td>\n",
       "    </tr>\n",
       "</table>"
      ],
      "text/plain": [
       "[(11,)]"
      ]
     },
     "execution_count": 8,
     "metadata": {},
     "output_type": "execute_result"
    }
   ],
   "source": [
    "%%sql\n",
    "SELECT COUNT(player_id)\n",
    "FROM players\n",
    "GROUP BY team_id\n",
    "HAVING team_id = 'T0001'"
   ]
  },
  {
   "attachments": {},
   "cell_type": "markdown",
   "metadata": {},
   "source": [
    "## 5. Write a SQL statement to find out the manager’s date of birth(dob) of the team for which “Shlok” plays"
   ]
  },
  {
   "cell_type": "code",
   "execution_count": 9,
   "metadata": {},
   "outputs": [
    {
     "name": "stdout",
     "output_type": "stream",
     "text": [
      " * sqlite:///Football_league_info_DB.db\n",
      "Done.\n"
     ]
    },
    {
     "data": {
      "text/html": [
       "<table>\n",
       "    <tr>\n",
       "        <th>dob</th>\n",
       "    </tr>\n",
       "    <tr>\n",
       "        <td>1990-08-23</td>\n",
       "    </tr>\n",
       "</table>"
      ],
      "text/plain": [
       "[('1990-08-23',)]"
      ]
     },
     "execution_count": 9,
     "metadata": {},
     "output_type": "execute_result"
    }
   ],
   "source": [
    "%%sql\n",
    "SELECT dob\n",
    "FROM managers\n",
    "WHERE team_id IN (SELECT team_id\n",
    "FROM players\n",
    "WHERE player_name = 'Shlok')"
   ]
  },
  {
   "attachments": {},
   "cell_type": "markdown",
   "metadata": {},
   "source": [
    "## 6. Write a SQL statement to find out match number(match num) played in the playground“Emirates Stadium”."
   ]
  },
  {
   "cell_type": "code",
   "execution_count": 23,
   "metadata": {},
   "outputs": [
    {
     "name": "stdout",
     "output_type": "stream",
     "text": [
      " * sqlite:///Football_league_info_DB.db\n",
      "Done.\n"
     ]
    },
    {
     "data": {
      "text/html": [
       "<table>\n",
       "    <tr>\n",
       "        <th>match_num</th>\n",
       "    </tr>\n",
       "    <tr>\n",
       "        <td>M0001</td>\n",
       "    </tr>\n",
       "    <tr>\n",
       "        <td>M0007</td>\n",
       "    </tr>\n",
       "    <tr>\n",
       "        <td>M0016</td>\n",
       "    </tr>\n",
       "</table>"
      ],
      "text/plain": [
       "[('M0001',), ('M0007',), ('M0016',)]"
      ]
     },
     "execution_count": 23,
     "metadata": {},
     "output_type": "execute_result"
    }
   ],
   "source": [
    "%%sql\n",
    "SELECT m.match_num\n",
    "FROM matches as m,teams as t\n",
    "WHERE m.host_team_id = t.team_id AND t.playground = 'Emirates Stadium'"
   ]
  },
  {
   "attachments": {},
   "cell_type": "markdown",
   "metadata": {},
   "source": [
    "## 7. Find the name, player id, date of birth and city of all players who played for team‘Rainbow’."
   ]
  },
  {
   "cell_type": "code",
   "execution_count": 22,
   "metadata": {},
   "outputs": [
    {
     "name": "stdout",
     "output_type": "stream",
     "text": [
      " * sqlite:///Football_league_info_DB.db\n",
      "Done.\n"
     ]
    },
    {
     "data": {
      "text/html": [
       "<table>\n",
       "    <tr>\n",
       "        <th>player_name</th>\n",
       "        <th>player_id</th>\n",
       "        <th>dob</th>\n",
       "        <th>city</th>\n",
       "    </tr>\n",
       "    <tr>\n",
       "        <td>Daksh</td>\n",
       "        <td>P3001</td>\n",
       "        <td>2003-12-30</td>\n",
       "        <td>Moscow</td>\n",
       "    </tr>\n",
       "    <tr>\n",
       "        <td>Aditya</td>\n",
       "        <td>P3002</td>\n",
       "        <td>2004-11-29</td>\n",
       "        <td>Moscow</td>\n",
       "    </tr>\n",
       "    <tr>\n",
       "        <td>Jay</td>\n",
       "        <td>P3003</td>\n",
       "        <td>2004-10-28</td>\n",
       "        <td>Moscow</td>\n",
       "    </tr>\n",
       "    <tr>\n",
       "        <td>Ravi</td>\n",
       "        <td>P3004</td>\n",
       "        <td>2001-09-27</td>\n",
       "        <td>Moscow</td>\n",
       "    </tr>\n",
       "    <tr>\n",
       "        <td>Suman</td>\n",
       "        <td>P3005</td>\n",
       "        <td>2004-08-24</td>\n",
       "        <td>Moscow</td>\n",
       "    </tr>\n",
       "    <tr>\n",
       "        <td>Souvik</td>\n",
       "        <td>P3006</td>\n",
       "        <td>2003-07-22</td>\n",
       "        <td>Moscow</td>\n",
       "    </tr>\n",
       "    <tr>\n",
       "        <td>Tanmoy</td>\n",
       "        <td>P3007</td>\n",
       "        <td>2005-06-20</td>\n",
       "        <td>Moscow</td>\n",
       "    </tr>\n",
       "    <tr>\n",
       "        <td>Arijit</td>\n",
       "        <td>P3008</td>\n",
       "        <td>2003-05-15</td>\n",
       "        <td>Moscow</td>\n",
       "    </tr>\n",
       "    <tr>\n",
       "        <td>Shivansh</td>\n",
       "        <td>P3009</td>\n",
       "        <td>2003-04-22</td>\n",
       "        <td>Moscow</td>\n",
       "    </tr>\n",
       "    <tr>\n",
       "        <td>Elvin</td>\n",
       "        <td>P3010</td>\n",
       "        <td>2005-03-09</td>\n",
       "        <td>Moscow</td>\n",
       "    </tr>\n",
       "    <tr>\n",
       "        <td>Kabir</td>\n",
       "        <td>P3011</td>\n",
       "        <td>2003-02-08</td>\n",
       "        <td>Moscow</td>\n",
       "    </tr>\n",
       "    <tr>\n",
       "        <td>Joseph</td>\n",
       "        <td>P3012</td>\n",
       "        <td>2002-01-01</td>\n",
       "        <td>Moscow</td>\n",
       "    </tr>\n",
       "</table>"
      ],
      "text/plain": [
       "[('Daksh', 'P3001', '2003-12-30', 'Moscow'),\n",
       " ('Aditya', 'P3002', '2004-11-29', 'Moscow'),\n",
       " ('Jay', 'P3003', '2004-10-28', 'Moscow'),\n",
       " ('Ravi', 'P3004', '2001-09-27', 'Moscow'),\n",
       " ('Suman', 'P3005', '2004-08-24', 'Moscow'),\n",
       " ('Souvik', 'P3006', '2003-07-22', 'Moscow'),\n",
       " ('Tanmoy', 'P3007', '2005-06-20', 'Moscow'),\n",
       " ('Arijit', 'P3008', '2003-05-15', 'Moscow'),\n",
       " ('Shivansh', 'P3009', '2003-04-22', 'Moscow'),\n",
       " ('Elvin', 'P3010', '2005-03-09', 'Moscow'),\n",
       " ('Kabir', 'P3011', '2003-02-08', 'Moscow'),\n",
       " ('Joseph', 'P3012', '2002-01-01', 'Moscow')]"
      ]
     },
     "execution_count": 22,
     "metadata": {},
     "output_type": "execute_result"
    }
   ],
   "source": [
    "%%sql\n",
    "SELECT p.player_name, p.player_id, p.dob, t.city\n",
    "FROM players AS p, teams AS t\n",
    "WHERE p.team_id = t.team_id\n",
    "AND t.teams_name = 'Rainbow'"
   ]
  },
  {
   "attachments": {},
   "cell_type": "markdown",
   "metadata": {},
   "source": [
    "## 8. Find the name of the teams which belong to the same city as the team ‘Amigos’."
   ]
  },
  {
   "cell_type": "code",
   "execution_count": 24,
   "metadata": {},
   "outputs": [
    {
     "name": "stdout",
     "output_type": "stream",
     "text": [
      " * sqlite:///Football_league_info_DB.db\n",
      "Done.\n"
     ]
    },
    {
     "data": {
      "text/html": [
       "<table>\n",
       "    <tr>\n",
       "        <th>teams_name</th>\n",
       "    </tr>\n",
       "</table>"
      ],
      "text/plain": [
       "[]"
      ]
     },
     "execution_count": 24,
     "metadata": {},
     "output_type": "execute_result"
    }
   ],
   "source": [
    "%%sql\n",
    "SELECT t2.teams_name\n",
    "FROM teams AS t1, teams AS t2\n",
    "WHERE t1.teams_name = 'Amigos'\n",
    "AND t2.teams_name <> 'Amigos'\n",
    "AND t1.city = t2.city"
   ]
  },
  {
   "attachments": {},
   "cell_type": "markdown",
   "metadata": {},
   "source": [
    "## 9. Find the names of the fourth referees (fourth referee) and the match number of all matches played on “2020-05-19”."
   ]
  },
  {
   "cell_type": "code",
   "execution_count": 26,
   "metadata": {},
   "outputs": [
    {
     "name": "stdout",
     "output_type": "stream",
     "text": [
      " * sqlite:///Football_league_info_DB.db\n",
      "Done.\n"
     ]
    },
    {
     "data": {
      "text/html": [
       "<table>\n",
       "    <tr>\n",
       "        <th>referee_name</th>\n",
       "        <th>match_num</th>\n",
       "    </tr>\n",
       "    <tr>\n",
       "        <td>Asit Kumar Sarkar</td>\n",
       "        <td>M0008</td>\n",
       "    </tr>\n",
       "</table>"
      ],
      "text/plain": [
       "[('Asit Kumar Sarkar', 'M0008')]"
      ]
     },
     "execution_count": 26,
     "metadata": {},
     "output_type": "execute_result"
    }
   ],
   "source": [
    "%%sql\n",
    "SELECT referee_name, match_num\n",
    "FROM referees\n",
    "INNER JOIN match_referees\n",
    "ON referees.referee_id = match_referees.fourth_referee\n",
    "INNER JOIN matches USING (match_num)\n",
    "WHERE match_date = '2020-05-19'"
   ]
  },
  {
   "attachments": {},
   "cell_type": "markdown",
   "metadata": {},
   "source": [
    "## 10. Write a SQL statement to find out the name of the oldest player from the team named“All Stars”."
   ]
  },
  {
   "cell_type": "code",
   "execution_count": 30,
   "metadata": {},
   "outputs": [
    {
     "name": "stdout",
     "output_type": "stream",
     "text": [
      " * sqlite:///Football_league_info_DB.db\n",
      "Done.\n"
     ]
    },
    {
     "data": {
      "text/html": [
       "<table>\n",
       "    <tr>\n",
       "        <th>player_name</th>\n",
       "    </tr>\n",
       "    <tr>\n",
       "        <td>Stephen</td>\n",
       "    </tr>\n",
       "</table>"
      ],
      "text/plain": [
       "[('Stephen',)]"
      ]
     },
     "execution_count": 30,
     "metadata": {},
     "output_type": "execute_result"
    }
   ],
   "source": [
    "%%sql\n",
    "SELECT p.player_name\n",
    "FROM players as p\n",
    "WHERE p.dob = (SELECT MIN(pl.dob)\n",
    "FROM players pl, teams te\n",
    "WHERE te.team_id = pl.team_id\n",
    "AND te.teams_name = 'All Stars')"
   ]
  }
 ],
 "metadata": {
  "kernelspec": {
   "display_name": "Python 3",
   "language": "python",
   "name": "python3"
  },
  "language_info": {
   "codemirror_mode": {
    "name": "ipython",
    "version": 3
   },
   "file_extension": ".py",
   "mimetype": "text/x-python",
   "name": "python",
   "nbconvert_exporter": "python",
   "pygments_lexer": "ipython3",
   "version": "3.10.9"
  },
  "orig_nbformat": 4,
  "vscode": {
   "interpreter": {
    "hash": "9f166fe30ea6bbce3438a22ffdf62dd5f327ee3c3b935cf331c63fb6525b3ba3"
   }
  }
 },
 "nbformat": 4,
 "nbformat_minor": 2
}
