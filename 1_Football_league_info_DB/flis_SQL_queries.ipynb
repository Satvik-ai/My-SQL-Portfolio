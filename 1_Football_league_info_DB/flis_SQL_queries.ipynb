{
 "cells": [
  {
   "attachments": {},
   "cell_type": "markdown",
   "metadata": {},
   "source": [
    "## Football League Information System (FLIS) \n",
    "<p>Football League Information Syatem Database (flisDB) is a relational database schema that manages the information of a\n",
    "football league for a given season. This FLIS consists of several teams, the teams' players, the\n",
    "managers who manage the teams, the match information, scores, and the match referees.</p>\n",
    "\n",
    "<p>The bellow lines of code connects us to the <code>Football_league_info_DB</code> database which contains <code>managers</code>,<code>match_referees</code>,\n",
    "<code>matches</code>,<code>players</code>,<code>referees</code> and <code>teams</code> datasheets.</p>\n"
   ]
  },
  {
   "cell_type": "code",
   "execution_count": 1,
   "metadata": {},
   "outputs": [],
   "source": [
    "import sqlalchemy as sq\n",
    "sq.create_engine('sqlite:///Football_league_info_DB.db')\n",
    "%load_ext sql\n",
    "%sql sqlite:///Football_league_info_DB.db"
   ]
  }
 ],
 "metadata": {
  "kernelspec": {
   "display_name": "Python 3",
   "language": "python",
   "name": "python3"
  },
  "language_info": {
   "codemirror_mode": {
    "name": "ipython",
    "version": 3
   },
   "file_extension": ".py",
   "mimetype": "text/x-python",
   "name": "python",
   "nbconvert_exporter": "python",
   "pygments_lexer": "ipython3",
   "version": "3.10.9"
  },
  "orig_nbformat": 4,
  "vscode": {
   "interpreter": {
    "hash": "9f166fe30ea6bbce3438a22ffdf62dd5f327ee3c3b935cf331c63fb6525b3ba3"
   }
  }
 },
 "nbformat": 4,
 "nbformat_minor": 2
}
