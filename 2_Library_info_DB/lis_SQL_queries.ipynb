{
 "cells": [
  {
   "attachments": {},
   "cell_type": "markdown",
   "metadata": {},
   "source": [
    "## Library Information System (LIS)\n",
    "<p>Library Information System is the relational database schema of the library services of an academic\n",
    "institute. A library having books to be issued by the faculty and students of the institute. The\n",
    "library needs an LIS to manage the books, the members, and the issue-return process.</p>\n",
    "\n",
    "<p>The below lines of code connects us to the <code>Library_info_DB</code> database</p>"
   ]
  },
  {
   "cell_type": "code",
   "execution_count": 2,
   "metadata": {},
   "outputs": [],
   "source": [
    "import sqlalchemy as sq\n",
    "sq.create_engine('sqlite:///Library_info_DB.db')\n",
    "%load_ext sql\n",
    "%sql sqlite:///Library_info_DB.db"
   ]
  }
 ],
 "metadata": {
  "kernelspec": {
   "display_name": "Python 3",
   "language": "python",
   "name": "python3"
  },
  "language_info": {
   "codemirror_mode": {
    "name": "ipython",
    "version": 3
   },
   "file_extension": ".py",
   "mimetype": "text/x-python",
   "name": "python",
   "nbconvert_exporter": "python",
   "pygments_lexer": "ipython3",
   "version": "3.10.9"
  },
  "orig_nbformat": 4,
  "vscode": {
   "interpreter": {
    "hash": "9f166fe30ea6bbce3438a22ffdf62dd5f327ee3c3b935cf331c63fb6525b3ba3"
   }
  }
 },
 "nbformat": 4,
 "nbformat_minor": 2
}
